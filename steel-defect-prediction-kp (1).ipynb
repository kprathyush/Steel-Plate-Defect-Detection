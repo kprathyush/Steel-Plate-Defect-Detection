{
 "cells": [
  {
   "cell_type": "code",
   "execution_count": 1,
   "id": "89b2894a",
   "metadata": {
    "_cell_guid": "b1076dfc-b9ad-4769-8c92-a6c4dae69d19",
    "_uuid": "8f2839f25d086af736a60e9eeb907d3b93b6e0e5",
    "execution": {
     "iopub.execute_input": "2024-03-30T23:43:45.975901Z",
     "iopub.status.busy": "2024-03-30T23:43:45.975425Z",
     "iopub.status.idle": "2024-03-30T23:43:47.270775Z",
     "shell.execute_reply": "2024-03-30T23:43:47.269485Z"
    },
    "papermill": {
     "duration": 1.307963,
     "end_time": "2024-03-30T23:43:47.274060",
     "exception": false,
     "start_time": "2024-03-30T23:43:45.966097",
     "status": "completed"
    },
    "tags": []
   },
   "outputs": [],
   "source": [
    "\n",
    "import warnings\n",
    "import numpy as np \n",
    "import pandas as pd \n",
    "\n",
    "df = pd.read_csv(\"/kaggle/input/playground-series-s4e3/train.csv\")\n",
    "test_df = pd.read_csv(\"/kaggle/input/playground-series-s4e3/test.csv\")\n",
    "warnings.filterwarnings('ignore')"
   ]
  },
  {
   "cell_type": "code",
   "execution_count": 2,
   "id": "5f5841c7",
   "metadata": {
    "execution": {
     "iopub.execute_input": "2024-03-30T23:43:47.289295Z",
     "iopub.status.busy": "2024-03-30T23:43:47.288764Z",
     "iopub.status.idle": "2024-03-30T23:43:47.322899Z",
     "shell.execute_reply": "2024-03-30T23:43:47.322032Z"
    },
    "papermill": {
     "duration": 0.044789,
     "end_time": "2024-03-30T23:43:47.325421",
     "exception": false,
     "start_time": "2024-03-30T23:43:47.280632",
     "status": "completed"
    },
    "tags": []
   },
   "outputs": [
    {
     "data": {
      "text/html": [
       "<div>\n",
       "<style scoped>\n",
       "    .dataframe tbody tr th:only-of-type {\n",
       "        vertical-align: middle;\n",
       "    }\n",
       "\n",
       "    .dataframe tbody tr th {\n",
       "        vertical-align: top;\n",
       "    }\n",
       "\n",
       "    .dataframe thead th {\n",
       "        text-align: right;\n",
       "    }\n",
       "</style>\n",
       "<table border=\"1\" class=\"dataframe\">\n",
       "  <thead>\n",
       "    <tr style=\"text-align: right;\">\n",
       "      <th></th>\n",
       "      <th>id</th>\n",
       "      <th>X_Minimum</th>\n",
       "      <th>X_Maximum</th>\n",
       "      <th>Y_Minimum</th>\n",
       "      <th>Y_Maximum</th>\n",
       "      <th>Pixels_Areas</th>\n",
       "      <th>X_Perimeter</th>\n",
       "      <th>Y_Perimeter</th>\n",
       "      <th>Sum_of_Luminosity</th>\n",
       "      <th>Minimum_of_Luminosity</th>\n",
       "      <th>...</th>\n",
       "      <th>Orientation_Index</th>\n",
       "      <th>Luminosity_Index</th>\n",
       "      <th>SigmoidOfAreas</th>\n",
       "      <th>Pastry</th>\n",
       "      <th>Z_Scratch</th>\n",
       "      <th>K_Scatch</th>\n",
       "      <th>Stains</th>\n",
       "      <th>Dirtiness</th>\n",
       "      <th>Bumps</th>\n",
       "      <th>Other_Faults</th>\n",
       "    </tr>\n",
       "  </thead>\n",
       "  <tbody>\n",
       "    <tr>\n",
       "      <th>0</th>\n",
       "      <td>0</td>\n",
       "      <td>584</td>\n",
       "      <td>590</td>\n",
       "      <td>909972</td>\n",
       "      <td>909977</td>\n",
       "      <td>16</td>\n",
       "      <td>8</td>\n",
       "      <td>5</td>\n",
       "      <td>2274</td>\n",
       "      <td>113</td>\n",
       "      <td>...</td>\n",
       "      <td>-0.5000</td>\n",
       "      <td>-0.0104</td>\n",
       "      <td>0.1417</td>\n",
       "      <td>0</td>\n",
       "      <td>0</td>\n",
       "      <td>0</td>\n",
       "      <td>1</td>\n",
       "      <td>0</td>\n",
       "      <td>0</td>\n",
       "      <td>0</td>\n",
       "    </tr>\n",
       "    <tr>\n",
       "      <th>1</th>\n",
       "      <td>1</td>\n",
       "      <td>808</td>\n",
       "      <td>816</td>\n",
       "      <td>728350</td>\n",
       "      <td>728372</td>\n",
       "      <td>433</td>\n",
       "      <td>20</td>\n",
       "      <td>54</td>\n",
       "      <td>44478</td>\n",
       "      <td>70</td>\n",
       "      <td>...</td>\n",
       "      <td>0.7419</td>\n",
       "      <td>-0.2997</td>\n",
       "      <td>0.9491</td>\n",
       "      <td>0</td>\n",
       "      <td>0</td>\n",
       "      <td>0</td>\n",
       "      <td>0</td>\n",
       "      <td>0</td>\n",
       "      <td>0</td>\n",
       "      <td>1</td>\n",
       "    </tr>\n",
       "    <tr>\n",
       "      <th>2</th>\n",
       "      <td>2</td>\n",
       "      <td>39</td>\n",
       "      <td>192</td>\n",
       "      <td>2212076</td>\n",
       "      <td>2212144</td>\n",
       "      <td>11388</td>\n",
       "      <td>705</td>\n",
       "      <td>420</td>\n",
       "      <td>1311391</td>\n",
       "      <td>29</td>\n",
       "      <td>...</td>\n",
       "      <td>-0.0105</td>\n",
       "      <td>-0.0944</td>\n",
       "      <td>1.0000</td>\n",
       "      <td>0</td>\n",
       "      <td>0</td>\n",
       "      <td>1</td>\n",
       "      <td>0</td>\n",
       "      <td>0</td>\n",
       "      <td>0</td>\n",
       "      <td>0</td>\n",
       "    </tr>\n",
       "    <tr>\n",
       "      <th>3</th>\n",
       "      <td>3</td>\n",
       "      <td>781</td>\n",
       "      <td>789</td>\n",
       "      <td>3353146</td>\n",
       "      <td>3353173</td>\n",
       "      <td>210</td>\n",
       "      <td>16</td>\n",
       "      <td>29</td>\n",
       "      <td>3202</td>\n",
       "      <td>114</td>\n",
       "      <td>...</td>\n",
       "      <td>0.6667</td>\n",
       "      <td>-0.0402</td>\n",
       "      <td>0.4025</td>\n",
       "      <td>0</td>\n",
       "      <td>0</td>\n",
       "      <td>1</td>\n",
       "      <td>0</td>\n",
       "      <td>0</td>\n",
       "      <td>0</td>\n",
       "      <td>0</td>\n",
       "    </tr>\n",
       "    <tr>\n",
       "      <th>4</th>\n",
       "      <td>4</td>\n",
       "      <td>1540</td>\n",
       "      <td>1560</td>\n",
       "      <td>618457</td>\n",
       "      <td>618502</td>\n",
       "      <td>521</td>\n",
       "      <td>72</td>\n",
       "      <td>67</td>\n",
       "      <td>48231</td>\n",
       "      <td>82</td>\n",
       "      <td>...</td>\n",
       "      <td>0.9158</td>\n",
       "      <td>-0.2455</td>\n",
       "      <td>0.9998</td>\n",
       "      <td>0</td>\n",
       "      <td>0</td>\n",
       "      <td>0</td>\n",
       "      <td>0</td>\n",
       "      <td>0</td>\n",
       "      <td>0</td>\n",
       "      <td>1</td>\n",
       "    </tr>\n",
       "  </tbody>\n",
       "</table>\n",
       "<p>5 rows × 35 columns</p>\n",
       "</div>"
      ],
      "text/plain": [
       "   id  X_Minimum  X_Maximum  Y_Minimum  Y_Maximum  Pixels_Areas  X_Perimeter  \\\n",
       "0   0        584        590     909972     909977            16            8   \n",
       "1   1        808        816     728350     728372           433           20   \n",
       "2   2         39        192    2212076    2212144         11388          705   \n",
       "3   3        781        789    3353146    3353173           210           16   \n",
       "4   4       1540       1560     618457     618502           521           72   \n",
       "\n",
       "   Y_Perimeter  Sum_of_Luminosity  Minimum_of_Luminosity  ...  \\\n",
       "0            5               2274                    113  ...   \n",
       "1           54              44478                     70  ...   \n",
       "2          420            1311391                     29  ...   \n",
       "3           29               3202                    114  ...   \n",
       "4           67              48231                     82  ...   \n",
       "\n",
       "   Orientation_Index  Luminosity_Index  SigmoidOfAreas  Pastry  Z_Scratch  \\\n",
       "0            -0.5000           -0.0104          0.1417       0          0   \n",
       "1             0.7419           -0.2997          0.9491       0          0   \n",
       "2            -0.0105           -0.0944          1.0000       0          0   \n",
       "3             0.6667           -0.0402          0.4025       0          0   \n",
       "4             0.9158           -0.2455          0.9998       0          0   \n",
       "\n",
       "   K_Scatch  Stains  Dirtiness  Bumps  Other_Faults  \n",
       "0         0       1          0      0             0  \n",
       "1         0       0          0      0             1  \n",
       "2         1       0          0      0             0  \n",
       "3         1       0          0      0             0  \n",
       "4         0       0          0      0             1  \n",
       "\n",
       "[5 rows x 35 columns]"
      ]
     },
     "execution_count": 2,
     "metadata": {},
     "output_type": "execute_result"
    }
   ],
   "source": [
    "df.head(5)"
   ]
  },
  {
   "cell_type": "code",
   "execution_count": 3,
   "id": "ba130432",
   "metadata": {
    "execution": {
     "iopub.execute_input": "2024-03-30T23:43:47.341323Z",
     "iopub.status.busy": "2024-03-30T23:43:47.340198Z",
     "iopub.status.idle": "2024-03-30T23:43:47.347281Z",
     "shell.execute_reply": "2024-03-30T23:43:47.346040Z"
    },
    "papermill": {
     "duration": 0.018367,
     "end_time": "2024-03-30T23:43:47.350461",
     "exception": false,
     "start_time": "2024-03-30T23:43:47.332094",
     "status": "completed"
    },
    "tags": []
   },
   "outputs": [
    {
     "name": "stdout",
     "output_type": "stream",
     "text": [
      "df: (19219, 35)\n",
      "test_df: (12814, 28)\n"
     ]
    }
   ],
   "source": [
    "print('df:', df.shape)\n",
    "print('test_df:',test_df.shape)"
   ]
  },
  {
   "cell_type": "code",
   "execution_count": 4,
   "id": "3bafdf24",
   "metadata": {
    "execution": {
     "iopub.execute_input": "2024-03-30T23:43:47.366444Z",
     "iopub.status.busy": "2024-03-30T23:43:47.365664Z",
     "iopub.status.idle": "2024-03-30T23:43:47.380485Z",
     "shell.execute_reply": "2024-03-30T23:43:47.379252Z"
    },
    "papermill": {
     "duration": 0.02605,
     "end_time": "2024-03-30T23:43:47.383251",
     "exception": false,
     "start_time": "2024-03-30T23:43:47.357201",
     "status": "completed"
    },
    "tags": []
   },
   "outputs": [
    {
     "data": {
      "text/plain": [
       "id                       0\n",
       "X_Minimum                0\n",
       "X_Maximum                0\n",
       "Y_Minimum                0\n",
       "Y_Maximum                0\n",
       "Pixels_Areas             0\n",
       "X_Perimeter              0\n",
       "Y_Perimeter              0\n",
       "Sum_of_Luminosity        0\n",
       "Minimum_of_Luminosity    0\n",
       "Maximum_of_Luminosity    0\n",
       "Length_of_Conveyer       0\n",
       "TypeOfSteel_A300         0\n",
       "TypeOfSteel_A400         0\n",
       "Steel_Plate_Thickness    0\n",
       "Edges_Index              0\n",
       "Empty_Index              0\n",
       "Square_Index             0\n",
       "Outside_X_Index          0\n",
       "Edges_X_Index            0\n",
       "Edges_Y_Index            0\n",
       "Outside_Global_Index     0\n",
       "LogOfAreas               0\n",
       "Log_X_Index              0\n",
       "Log_Y_Index              0\n",
       "Orientation_Index        0\n",
       "Luminosity_Index         0\n",
       "SigmoidOfAreas           0\n",
       "Pastry                   0\n",
       "Z_Scratch                0\n",
       "K_Scatch                 0\n",
       "Stains                   0\n",
       "Dirtiness                0\n",
       "Bumps                    0\n",
       "Other_Faults             0\n",
       "dtype: int64"
      ]
     },
     "execution_count": 4,
     "metadata": {},
     "output_type": "execute_result"
    }
   ],
   "source": [
    "df.isna().sum()"
   ]
  },
  {
   "cell_type": "code",
   "execution_count": 5,
   "id": "76f7f4d7",
   "metadata": {
    "execution": {
     "iopub.execute_input": "2024-03-30T23:43:47.400111Z",
     "iopub.status.busy": "2024-03-30T23:43:47.399369Z",
     "iopub.status.idle": "2024-03-30T23:43:47.411426Z",
     "shell.execute_reply": "2024-03-30T23:43:47.410031Z"
    },
    "papermill": {
     "duration": 0.023986,
     "end_time": "2024-03-30T23:43:47.414541",
     "exception": false,
     "start_time": "2024-03-30T23:43:47.390555",
     "status": "completed"
    },
    "tags": []
   },
   "outputs": [
    {
     "data": {
      "text/plain": [
       "id                       0\n",
       "X_Minimum                0\n",
       "X_Maximum                0\n",
       "Y_Minimum                0\n",
       "Y_Maximum                0\n",
       "Pixels_Areas             0\n",
       "X_Perimeter              0\n",
       "Y_Perimeter              0\n",
       "Sum_of_Luminosity        0\n",
       "Minimum_of_Luminosity    0\n",
       "Maximum_of_Luminosity    0\n",
       "Length_of_Conveyer       0\n",
       "TypeOfSteel_A300         0\n",
       "TypeOfSteel_A400         0\n",
       "Steel_Plate_Thickness    0\n",
       "Edges_Index              0\n",
       "Empty_Index              0\n",
       "Square_Index             0\n",
       "Outside_X_Index          0\n",
       "Edges_X_Index            0\n",
       "Edges_Y_Index            0\n",
       "Outside_Global_Index     0\n",
       "LogOfAreas               0\n",
       "Log_X_Index              0\n",
       "Log_Y_Index              0\n",
       "Orientation_Index        0\n",
       "Luminosity_Index         0\n",
       "SigmoidOfAreas           0\n",
       "dtype: int64"
      ]
     },
     "execution_count": 5,
     "metadata": {},
     "output_type": "execute_result"
    }
   ],
   "source": [
    "test_df.isna().sum()"
   ]
  },
  {
   "cell_type": "code",
   "execution_count": 6,
   "id": "9033c660",
   "metadata": {
    "execution": {
     "iopub.execute_input": "2024-03-30T23:43:47.431489Z",
     "iopub.status.busy": "2024-03-30T23:43:47.430758Z",
     "iopub.status.idle": "2024-03-30T23:43:47.439634Z",
     "shell.execute_reply": "2024-03-30T23:43:47.438679Z"
    },
    "papermill": {
     "duration": 0.020142,
     "end_time": "2024-03-30T23:43:47.441928",
     "exception": false,
     "start_time": "2024-03-30T23:43:47.421786",
     "status": "completed"
    },
    "tags": []
   },
   "outputs": [
    {
     "data": {
      "text/plain": [
       "id                         int64\n",
       "X_Minimum                  int64\n",
       "X_Maximum                  int64\n",
       "Y_Minimum                  int64\n",
       "Y_Maximum                  int64\n",
       "Pixels_Areas               int64\n",
       "X_Perimeter                int64\n",
       "Y_Perimeter                int64\n",
       "Sum_of_Luminosity          int64\n",
       "Minimum_of_Luminosity      int64\n",
       "Maximum_of_Luminosity      int64\n",
       "Length_of_Conveyer         int64\n",
       "TypeOfSteel_A300           int64\n",
       "TypeOfSteel_A400           int64\n",
       "Steel_Plate_Thickness      int64\n",
       "Edges_Index              float64\n",
       "Empty_Index              float64\n",
       "Square_Index             float64\n",
       "Outside_X_Index          float64\n",
       "Edges_X_Index            float64\n",
       "Edges_Y_Index            float64\n",
       "Outside_Global_Index     float64\n",
       "LogOfAreas               float64\n",
       "Log_X_Index              float64\n",
       "Log_Y_Index              float64\n",
       "Orientation_Index        float64\n",
       "Luminosity_Index         float64\n",
       "SigmoidOfAreas           float64\n",
       "Pastry                     int64\n",
       "Z_Scratch                  int64\n",
       "K_Scatch                   int64\n",
       "Stains                     int64\n",
       "Dirtiness                  int64\n",
       "Bumps                      int64\n",
       "Other_Faults               int64\n",
       "dtype: object"
      ]
     },
     "execution_count": 6,
     "metadata": {},
     "output_type": "execute_result"
    }
   ],
   "source": [
    "df.dtypes"
   ]
  },
  {
   "cell_type": "code",
   "execution_count": 7,
   "id": "ec2e2614",
   "metadata": {
    "execution": {
     "iopub.execute_input": "2024-03-30T23:43:47.458402Z",
     "iopub.status.busy": "2024-03-30T23:43:47.457942Z",
     "iopub.status.idle": "2024-03-30T23:43:47.468865Z",
     "shell.execute_reply": "2024-03-30T23:43:47.467539Z"
    },
    "papermill": {
     "duration": 0.022369,
     "end_time": "2024-03-30T23:43:47.471563",
     "exception": false,
     "start_time": "2024-03-30T23:43:47.449194",
     "status": "completed"
    },
    "tags": []
   },
   "outputs": [
    {
     "data": {
      "text/plain": [
       "id                         int64\n",
       "X_Minimum                  int64\n",
       "X_Maximum                  int64\n",
       "Y_Minimum                  int64\n",
       "Y_Maximum                  int64\n",
       "Pixels_Areas               int64\n",
       "X_Perimeter                int64\n",
       "Y_Perimeter                int64\n",
       "Sum_of_Luminosity          int64\n",
       "Minimum_of_Luminosity      int64\n",
       "Maximum_of_Luminosity      int64\n",
       "Length_of_Conveyer         int64\n",
       "TypeOfSteel_A300           int64\n",
       "TypeOfSteel_A400           int64\n",
       "Steel_Plate_Thickness      int64\n",
       "Edges_Index              float64\n",
       "Empty_Index              float64\n",
       "Square_Index             float64\n",
       "Outside_X_Index          float64\n",
       "Edges_X_Index            float64\n",
       "Edges_Y_Index            float64\n",
       "Outside_Global_Index     float64\n",
       "LogOfAreas               float64\n",
       "Log_X_Index              float64\n",
       "Log_Y_Index              float64\n",
       "Orientation_Index        float64\n",
       "Luminosity_Index         float64\n",
       "SigmoidOfAreas           float64\n",
       "dtype: object"
      ]
     },
     "execution_count": 7,
     "metadata": {},
     "output_type": "execute_result"
    }
   ],
   "source": [
    "test_df.dtypes"
   ]
  },
  {
   "cell_type": "code",
   "execution_count": 8,
   "id": "b8c156f5",
   "metadata": {
    "execution": {
     "iopub.execute_input": "2024-03-30T23:43:47.489608Z",
     "iopub.status.busy": "2024-03-30T23:43:47.488893Z",
     "iopub.status.idle": "2024-03-30T23:43:47.510716Z",
     "shell.execute_reply": "2024-03-30T23:43:47.509465Z"
    },
    "papermill": {
     "duration": 0.034557,
     "end_time": "2024-03-30T23:43:47.513726",
     "exception": false,
     "start_time": "2024-03-30T23:43:47.479169",
     "status": "completed"
    },
    "tags": []
   },
   "outputs": [],
   "source": [
    "import numpy as np\n",
    "\n",
    "# Feature engineering for the training dataset (df)\n",
    "df['X_range'] = df['X_Maximum'] - df['X_Minimum']\n",
    "df['Y_range'] = df['Y_Maximum'] - df['Y_Minimum']\n",
    "df['Range_of_Luminosity'] = df['Maximum_of_Luminosity'] - df['Minimum_of_Luminosity']\n",
    "df['Area'] = np.exp(df['LogOfAreas'])\n",
    "df['X_Index'] = np.exp(df['Log_X_Index'])\n",
    "df['Y_Index'] = np.exp(df['Log_Y_Index'])\n",
    "\n",
    "# Feature engineering for the testing dataset (test_df)\n",
    "test_df['X_range'] = test_df['X_Maximum'] - test_df['X_Minimum']\n",
    "test_df['Y_range'] = test_df['Y_Maximum'] - test_df['Y_Minimum']\n",
    "test_df['Range_of_Luminosity'] = test_df['Maximum_of_Luminosity'] - test_df['Minimum_of_Luminosity']\n",
    "test_df['Area'] = np.exp(test_df['LogOfAreas'])\n",
    "test_df['X_Index'] = np.exp(test_df['Log_X_Index'])\n",
    "test_df['Y_Index'] = np.exp(test_df['Log_Y_Index'])\n"
   ]
  },
  {
   "cell_type": "code",
   "execution_count": 9,
   "id": "02215bcb",
   "metadata": {
    "execution": {
     "iopub.execute_input": "2024-03-30T23:43:47.530939Z",
     "iopub.status.busy": "2024-03-30T23:43:47.530240Z",
     "iopub.status.idle": "2024-03-30T23:43:47.535181Z",
     "shell.execute_reply": "2024-03-30T23:43:47.534234Z"
    },
    "papermill": {
     "duration": 0.016466,
     "end_time": "2024-03-30T23:43:47.537650",
     "exception": false,
     "start_time": "2024-03-30T23:43:47.521184",
     "status": "completed"
    },
    "tags": []
   },
   "outputs": [],
   "source": [
    "# # List of target variables to exclude from the outlier detection process\n",
    "# tgt = ['Pastry', 'Z_Scratch', 'K_Scatch', 'Stains', 'Dirtiness', 'Bumps', 'Other_Faults']\n",
    "\n",
    "# # Select only the feature columns for outlier detection\n",
    "# features_df = df.drop(columns=tgt)\n",
    "\n",
    "# # Calculate the IQR for each feature column\n",
    "# Q1 = features_df.quantile(0.25)\n",
    "# Q3 = features_df.quantile(0.75)\n",
    "# IQR = Q3 - Q1\n",
    "\n",
    "# # Define the criteria to identify outliers\n",
    "# is_outlier = (features_df < (Q1 - 1.5 * IQR)) | (features_df > (Q3 + 1.5 * IQR))\n",
    "\n",
    "# # Filter out outliers by keeping only the rows without any outliers in the feature columns\n",
    "# filtered_df = df[~is_outlier.any(axis=1)]\n",
    "\n",
    "# print(f\"Original DataFrame shape: {df.shape}\")\n",
    "# print(f\"Filtered DataFrame shape without outliers in feature columns: {filtered_df.shape}\")\n"
   ]
  },
  {
   "cell_type": "code",
   "execution_count": 10,
   "id": "284d1a39",
   "metadata": {
    "execution": {
     "iopub.execute_input": "2024-03-30T23:43:47.555108Z",
     "iopub.status.busy": "2024-03-30T23:43:47.554425Z",
     "iopub.status.idle": "2024-03-30T23:43:47.559741Z",
     "shell.execute_reply": "2024-03-30T23:43:47.558580Z"
    },
    "papermill": {
     "duration": 0.017356,
     "end_time": "2024-03-30T23:43:47.562712",
     "exception": false,
     "start_time": "2024-03-30T23:43:47.545356",
     "status": "completed"
    },
    "tags": []
   },
   "outputs": [],
   "source": [
    "tgt = ['Pastry', 'Z_Scratch', 'K_Scatch', 'Stains', 'Dirtiness', 'Bumps', 'Other_Faults']"
   ]
  },
  {
   "cell_type": "code",
   "execution_count": 11,
   "id": "c094f7a8",
   "metadata": {
    "execution": {
     "iopub.execute_input": "2024-03-30T23:43:47.580167Z",
     "iopub.status.busy": "2024-03-30T23:43:47.579740Z",
     "iopub.status.idle": "2024-03-30T23:46:12.081285Z",
     "shell.execute_reply": "2024-03-30T23:46:12.080170Z"
    },
    "papermill": {
     "duration": 144.5138,
     "end_time": "2024-03-30T23:46:12.084177",
     "exception": false,
     "start_time": "2024-03-30T23:43:47.570377",
     "status": "completed"
    },
    "tags": []
   },
   "outputs": [
    {
     "name": "stderr",
     "output_type": "stream",
     "text": [
      "[I 2024-03-30 23:43:49,812] A new study created in memory with name: no-name-e69d036a-781d-4873-850f-60f80b4a4b97\n",
      "[I 2024-03-30 23:44:04,263] Trial 0 finished with value: 0.8840329018865257 and parameters: {'learning_rate': 0.03454051429864382, 'n_estimators': 590, 'max_depth': 8, 'gamma': 1.6190673629828871, 'min_child_weight': 5.537161251291883, 'subsample': 0.8530146406009523, 'colsample_bytree': 0.5989930015916503}. Best is trial 0 with value: 0.8840329018865257.\n",
      "[I 2024-03-30 23:44:13,462] Trial 1 finished with value: 0.8875259830739765 and parameters: {'learning_rate': 0.024021991521319237, 'n_estimators': 339, 'max_depth': 7, 'gamma': 2.166015296215603, 'min_child_weight': 7.286504317808793, 'subsample': 0.8373923099685485, 'colsample_bytree': 0.5842807004164575}. Best is trial 1 with value: 0.8875259830739765.\n",
      "[I 2024-03-30 23:44:31,331] Trial 2 finished with value: 0.8886315907585597 and parameters: {'learning_rate': 0.012441485638804671, 'n_estimators': 583, 'max_depth': 6, 'gamma': 0.9835639496738506, 'min_child_weight': 5.113670234992327, 'subsample': 0.8201054632849932, 'colsample_bytree': 0.7893922261107306}. Best is trial 2 with value: 0.8886315907585597.\n",
      "[I 2024-03-30 23:44:43,455] Trial 3 finished with value: 0.8844950558867986 and parameters: {'learning_rate': 0.035053625993905095, 'n_estimators': 467, 'max_depth': 7, 'gamma': 0.282525339099728, 'min_child_weight': 8.9866874870124, 'subsample': 0.8937292883881756, 'colsample_bytree': 0.40371327780533783}. Best is trial 2 with value: 0.8886315907585597.\n",
      "[I 2024-03-30 23:45:01,132] Trial 4 finished with value: 0.8879627972648644 and parameters: {'learning_rate': 0.013897297888313084, 'n_estimators': 573, 'max_depth': 9, 'gamma': 2.7267036735488, 'min_child_weight': 5.971866901948175, 'subsample': 0.8226127113294982, 'colsample_bytree': 0.6512022798979646}. Best is trial 2 with value: 0.8886315907585597.\n",
      "[I 2024-03-30 23:45:11,624] Trial 5 finished with value: 0.8870306427467608 and parameters: {'learning_rate': 0.031157832885222746, 'n_estimators': 460, 'max_depth': 6, 'gamma': 1.4764016450313746, 'min_child_weight': 5.916375825516409, 'subsample': 0.8732191603773527, 'colsample_bytree': 0.5882408540314673}. Best is trial 2 with value: 0.8886315907585597.\n",
      "[I 2024-03-30 23:45:20,629] Trial 6 finished with value: 0.8889107070789943 and parameters: {'learning_rate': 0.013048550600073636, 'n_estimators': 356, 'max_depth': 6, 'gamma': 1.7529001607149977, 'min_child_weight': 8.322936202499902, 'subsample': 0.8643479700555768, 'colsample_bytree': 0.5729929457506966}. Best is trial 6 with value: 0.8889107070789943.\n",
      "[I 2024-03-30 23:45:26,883] Trial 7 finished with value: 0.8864443405048276 and parameters: {'learning_rate': 0.012218391560213362, 'n_estimators': 329, 'max_depth': 4, 'gamma': 2.2209434064130775, 'min_child_weight': 8.682370281361063, 'subsample': 0.8489834977336603, 'colsample_bytree': 0.6579646513729788}. Best is trial 6 with value: 0.8889107070789943.\n",
      "[I 2024-03-30 23:45:49,150] Trial 8 finished with value: 0.8815857507370763 and parameters: {'learning_rate': 0.029601130690473695, 'n_estimators': 535, 'max_depth': 9, 'gamma': 0.0006000002482819955, 'min_child_weight': 5.64291083703834, 'subsample': 0.8994261340653159, 'colsample_bytree': 0.7908984583568975}. Best is trial 6 with value: 0.8889107070789943.\n",
      "[I 2024-03-30 23:46:01,596] Trial 9 finished with value: 0.884672416789656 and parameters: {'learning_rate': 0.03943712253364145, 'n_estimators': 595, 'max_depth': 9, 'gamma': 1.6803648469825998, 'min_child_weight': 8.022052607068256, 'subsample': 0.8689603004192055, 'colsample_bytree': 0.43743979334777605}. Best is trial 6 with value: 0.8889107070789943.\n"
     ]
    },
    {
     "name": "stdout",
     "output_type": "stream",
     "text": [
      "Optimal hyperparameters: {'learning_rate': 0.013048550600073636, 'n_estimators': 356, 'max_depth': 6, 'gamma': 1.7529001607149977, 'min_child_weight': 8.322936202499902, 'subsample': 0.8643479700555768, 'colsample_bytree': 0.5729929457506966}\n"
     ]
    }
   ],
   "source": [
    "from sklearn.preprocessing import StandardScaler\n",
    "from sklearn.model_selection import train_test_split\n",
    "import numpy as np\n",
    "import pandas as pd\n",
    "import optuna\n",
    "from xgboost import XGBClassifier\n",
    "from sklearn.metrics import roc_auc_score\n",
    "\n",
    "# Assuming 'filtered_df' and 'test_df' are defined somewhere in your notebook/script\n",
    "\n",
    "# Prepare the dataset by specifying features (X) and targets (y)\n",
    "X = df.drop(columns=['id', 'Pastry', 'Z_Scratch', 'K_Scatch', 'Stains', 'Dirtiness', 'Bumps', 'Other_Faults'])\n",
    "y = df[['Pastry', 'Z_Scratch', 'K_Scatch', 'Stains', 'Dirtiness', 'Bumps', 'Other_Faults']]\n",
    "\n",
    "# Scale the feature data\n",
    "scaler = StandardScaler()\n",
    "X_scaled = scaler.fit_transform(X)\n",
    "\n",
    "# Split the dataset into training and test sets\n",
    "X_train, X_test, y_train, y_test = train_test_split(X_scaled, y, test_size=0.2, random_state=42)\n",
    "\n",
    "# Define a function for hyperparameter tuning with Optuna\n",
    "def tune_model_parameters(trial):\n",
    "    hyperparams = {\n",
    "        \"learning_rate\": trial.suggest_float(\"learning_rate\", 0.01, 0.04),\n",
    "        \"n_estimators\": trial.suggest_int(\"n_estimators\", 300, 600),\n",
    "        \"max_depth\": trial.suggest_int(\"max_depth\", 4, 9),\n",
    "        \"gamma\": trial.suggest_float(\"gamma\", 0, 3),\n",
    "        \"min_child_weight\": trial.suggest_float(\"min_child_weight\", 4, 9),\n",
    "        \"subsample\": trial.suggest_float(\"subsample\", 0.8, 0.9),\n",
    "        \"colsample_bytree\": trial.suggest_float(\"colsample_bytree\", 0.4, 0.8),\n",
    "        \"objective\": \"binary:logistic\",\n",
    "        \"eval_metric\": \"logloss\",\n",
    "        \"booster\": \"gbtree\",\n",
    "        \"random_state\": 42,\n",
    "    }\n",
    "\n",
    "    # Initialize the XGBClassifier with the trial's hyperparameters\n",
    "    model = XGBClassifier(**hyperparams)\n",
    "    model.fit(X_train, y_train)\n",
    "    predictions = model.predict_proba(X_test)\n",
    "\n",
    "    # Compute and return the average AUC score across all target columns\n",
    "    average_auc = np.mean([roc_auc_score(y_test.iloc[:, idx], predictions[:, idx]) for idx in range(y_test.shape[1])])\n",
    "    return average_auc\n",
    "\n",
    "# Create and optimize the Optuna study\n",
    "optimization_study = optuna.create_study(direction=\"maximize\")\n",
    "optimization_study.optimize(tune_model_parameters, n_trials=10)\n",
    "\n",
    "# Display the best hyperparameters found by the study\n",
    "optimal_hyperparameters = optimization_study.best_trial.params\n",
    "print(\"Optimal hyperparameters:\", optimal_hyperparameters)\n",
    "\n",
    "# Train the final classifier with the optimal hyperparameters on the entire dataset\n",
    "final_classifier = XGBClassifier(**optimal_hyperparameters)\n",
    "final_classifier.fit(X_scaled, y)\n",
    "\n",
    "# Predict on new test data (ensure 'test_df' is prepared similarly to 'X')\n",
    "new_test_features = scaler.transform(test_df.drop(columns=['id']))\n",
    "final_predictions = final_classifier.predict_proba(new_test_features)\n"
   ]
  },
  {
   "cell_type": "code",
   "execution_count": 12,
   "id": "5970d6e7",
   "metadata": {
    "execution": {
     "iopub.execute_input": "2024-03-30T23:46:12.108135Z",
     "iopub.status.busy": "2024-03-30T23:46:12.107661Z",
     "iopub.status.idle": "2024-03-30T23:46:12.126264Z",
     "shell.execute_reply": "2024-03-30T23:46:12.124663Z"
    },
    "papermill": {
     "duration": 0.032589,
     "end_time": "2024-03-30T23:46:12.129653",
     "exception": false,
     "start_time": "2024-03-30T23:46:12.097064",
     "status": "completed"
    },
    "tags": []
   },
   "outputs": [
    {
     "name": "stdout",
     "output_type": "stream",
     "text": [
      "          id    Pastry  Z_Scratch  K_Scatch    Stains  Dirtiness     Bumps  \\\n",
      "0      19219  0.502090   0.004157  0.006418  0.002162   0.020353  0.163739   \n",
      "1      19220  0.287397   0.024741  0.011782  0.002164   0.165460  0.204617   \n",
      "2      19221  0.004712   0.033540  0.035703  0.002383   0.010021  0.331923   \n",
      "3      19222  0.203884   0.005758  0.002495  0.003110   0.014291  0.414921   \n",
      "4      19223  0.005149   0.006370  0.002760  0.003612   0.011758  0.579061   \n",
      "...      ...       ...        ...       ...       ...        ...       ...   \n",
      "12809  32028  0.082254   0.115613  0.006965  0.002190   0.032454  0.203745   \n",
      "12810  32029  0.167789   0.006399  0.028357  0.010326   0.112382  0.189313   \n",
      "12811  32030  0.002799   0.002831  0.921692  0.002199   0.002768  0.002955   \n",
      "12812  32031  0.376596   0.018846  0.018622  0.002164   0.051529  0.172265   \n",
      "12813  32032  0.003943   0.005868  0.887834  0.002185   0.003313  0.003231   \n",
      "\n",
      "       Other_Faults  \n",
      "0          0.340449  \n",
      "1          0.310978  \n",
      "2          0.473065  \n",
      "3          0.406899  \n",
      "4          0.381419  \n",
      "...             ...  \n",
      "12809      0.359659  \n",
      "12810      0.418576  \n",
      "12811      0.065783  \n",
      "12812      0.347066  \n",
      "12813      0.109409  \n",
      "\n",
      "[12814 rows x 8 columns]\n"
     ]
    }
   ],
   "source": [
    "predictions_df = pd.DataFrame(final_predictions, columns=tgt)\n",
    "\n",
    "# Reset the index of 'test_df' to align with the predictions DataFrame\n",
    "test_df_reset = test_df.reset_index(drop=True)\n",
    "\n",
    "# Concatenate the 'id' column from 'test_df_reset' with the predictions DataFrame\n",
    "output_df = pd.concat([test_df_reset[['id']], predictions_df], axis=1)\n",
    "\n",
    "\n",
    "print(output_df)\n"
   ]
  },
  {
   "cell_type": "code",
   "execution_count": 13,
   "id": "7915cff0",
   "metadata": {
    "execution": {
     "iopub.execute_input": "2024-03-30T23:46:12.149093Z",
     "iopub.status.busy": "2024-03-30T23:46:12.148440Z",
     "iopub.status.idle": "2024-03-30T23:46:12.166281Z",
     "shell.execute_reply": "2024-03-30T23:46:12.164652Z"
    },
    "papermill": {
     "duration": 0.031047,
     "end_time": "2024-03-30T23:46:12.169344",
     "exception": false,
     "start_time": "2024-03-30T23:46:12.138297",
     "status": "completed"
    },
    "tags": []
   },
   "outputs": [
    {
     "data": {
      "text/html": [
       "<div>\n",
       "<style scoped>\n",
       "    .dataframe tbody tr th:only-of-type {\n",
       "        vertical-align: middle;\n",
       "    }\n",
       "\n",
       "    .dataframe tbody tr th {\n",
       "        vertical-align: top;\n",
       "    }\n",
       "\n",
       "    .dataframe thead th {\n",
       "        text-align: right;\n",
       "    }\n",
       "</style>\n",
       "<table border=\"1\" class=\"dataframe\">\n",
       "  <thead>\n",
       "    <tr style=\"text-align: right;\">\n",
       "      <th></th>\n",
       "      <th>id</th>\n",
       "      <th>Pastry</th>\n",
       "      <th>Z_Scratch</th>\n",
       "      <th>K_Scatch</th>\n",
       "      <th>Stains</th>\n",
       "      <th>Dirtiness</th>\n",
       "      <th>Bumps</th>\n",
       "      <th>Other_Faults</th>\n",
       "    </tr>\n",
       "  </thead>\n",
       "  <tbody>\n",
       "    <tr>\n",
       "      <th>0</th>\n",
       "      <td>19219</td>\n",
       "      <td>0.502090</td>\n",
       "      <td>0.004157</td>\n",
       "      <td>0.006418</td>\n",
       "      <td>0.002162</td>\n",
       "      <td>0.020353</td>\n",
       "      <td>0.163739</td>\n",
       "      <td>0.340449</td>\n",
       "    </tr>\n",
       "    <tr>\n",
       "      <th>1</th>\n",
       "      <td>19220</td>\n",
       "      <td>0.287397</td>\n",
       "      <td>0.024741</td>\n",
       "      <td>0.011782</td>\n",
       "      <td>0.002164</td>\n",
       "      <td>0.165460</td>\n",
       "      <td>0.204617</td>\n",
       "      <td>0.310978</td>\n",
       "    </tr>\n",
       "    <tr>\n",
       "      <th>2</th>\n",
       "      <td>19221</td>\n",
       "      <td>0.004712</td>\n",
       "      <td>0.033540</td>\n",
       "      <td>0.035703</td>\n",
       "      <td>0.002383</td>\n",
       "      <td>0.010021</td>\n",
       "      <td>0.331923</td>\n",
       "      <td>0.473065</td>\n",
       "    </tr>\n",
       "    <tr>\n",
       "      <th>3</th>\n",
       "      <td>19222</td>\n",
       "      <td>0.203884</td>\n",
       "      <td>0.005758</td>\n",
       "      <td>0.002495</td>\n",
       "      <td>0.003110</td>\n",
       "      <td>0.014291</td>\n",
       "      <td>0.414921</td>\n",
       "      <td>0.406899</td>\n",
       "    </tr>\n",
       "    <tr>\n",
       "      <th>4</th>\n",
       "      <td>19223</td>\n",
       "      <td>0.005149</td>\n",
       "      <td>0.006370</td>\n",
       "      <td>0.002760</td>\n",
       "      <td>0.003612</td>\n",
       "      <td>0.011758</td>\n",
       "      <td>0.579061</td>\n",
       "      <td>0.381419</td>\n",
       "    </tr>\n",
       "  </tbody>\n",
       "</table>\n",
       "</div>"
      ],
      "text/plain": [
       "      id    Pastry  Z_Scratch  K_Scatch    Stains  Dirtiness     Bumps  \\\n",
       "0  19219  0.502090   0.004157  0.006418  0.002162   0.020353  0.163739   \n",
       "1  19220  0.287397   0.024741  0.011782  0.002164   0.165460  0.204617   \n",
       "2  19221  0.004712   0.033540  0.035703  0.002383   0.010021  0.331923   \n",
       "3  19222  0.203884   0.005758  0.002495  0.003110   0.014291  0.414921   \n",
       "4  19223  0.005149   0.006370  0.002760  0.003612   0.011758  0.579061   \n",
       "\n",
       "   Other_Faults  \n",
       "0      0.340449  \n",
       "1      0.310978  \n",
       "2      0.473065  \n",
       "3      0.406899  \n",
       "4      0.381419  "
      ]
     },
     "execution_count": 13,
     "metadata": {},
     "output_type": "execute_result"
    }
   ],
   "source": [
    "output_df.head()"
   ]
  },
  {
   "cell_type": "code",
   "execution_count": 14,
   "id": "81301afc",
   "metadata": {
    "execution": {
     "iopub.execute_input": "2024-03-30T23:46:12.190409Z",
     "iopub.status.busy": "2024-03-30T23:46:12.188845Z",
     "iopub.status.idle": "2024-03-30T23:46:12.358962Z",
     "shell.execute_reply": "2024-03-30T23:46:12.357697Z"
    },
    "papermill": {
     "duration": 0.183562,
     "end_time": "2024-03-30T23:46:12.361924",
     "exception": false,
     "start_time": "2024-03-30T23:46:12.178362",
     "status": "completed"
    },
    "tags": []
   },
   "outputs": [],
   "source": [
    "\n",
    "output_df.to_csv('submission.csv', index=False)\n"
   ]
  },
  {
   "cell_type": "code",
   "execution_count": null,
   "id": "84faea4e",
   "metadata": {
    "papermill": {
     "duration": 0.008446,
     "end_time": "2024-03-30T23:46:12.379290",
     "exception": false,
     "start_time": "2024-03-30T23:46:12.370844",
     "status": "completed"
    },
    "tags": []
   },
   "outputs": [],
   "source": []
  }
 ],
 "metadata": {
  "kaggle": {
   "accelerator": "none",
   "dataSources": [
    {
     "databundleVersionId": 7659021,
     "sourceId": 68699,
     "sourceType": "competition"
    }
   ],
   "dockerImageVersionId": 30673,
   "isGpuEnabled": false,
   "isInternetEnabled": true,
   "language": "python",
   "sourceType": "notebook"
  },
  "kernelspec": {
   "display_name": "Python 3",
   "language": "python",
   "name": "python3"
  },
  "language_info": {
   "codemirror_mode": {
    "name": "ipython",
    "version": 3
   },
   "file_extension": ".py",
   "mimetype": "text/x-python",
   "name": "python",
   "nbconvert_exporter": "python",
   "pygments_lexer": "ipython3",
   "version": "3.10.13"
  },
  "papermill": {
   "default_parameters": {},
   "duration": 150.97919,
   "end_time": "2024-03-30T23:46:13.112856",
   "environment_variables": {},
   "exception": null,
   "input_path": "__notebook__.ipynb",
   "output_path": "__notebook__.ipynb",
   "parameters": {},
   "start_time": "2024-03-30T23:43:42.133666",
   "version": "2.5.0"
  }
 },
 "nbformat": 4,
 "nbformat_minor": 5
}
